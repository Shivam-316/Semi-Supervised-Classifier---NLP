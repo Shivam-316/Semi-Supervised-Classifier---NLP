{
  "nbformat": 4,
  "nbformat_minor": 0,
  "metadata": {
    "colab": {
      "name": "Semi-supervised-classifier.ipynb",
      "provenance": [],
      "collapsed_sections": [],
      "authorship_tag": "ABX9TyM2M2Rgg+mmP1mPgGye8usW",
      "include_colab_link": true
    },
    "kernelspec": {
      "name": "python3",
      "display_name": "Python 3"
    },
    "language_info": {
      "name": "python"
    }
  },
  "cells": [
    {
      "cell_type": "markdown",
      "metadata": {
        "id": "view-in-github",
        "colab_type": "text"
      },
      "source": [
        "<a href=\"https://colab.research.google.com/github/Shivam-316/Semi-Supervised-Classifier---NLP/blob/master/Semi_supervised_classifier.ipynb\" target=\"_parent\"><img src=\"https://colab.research.google.com/assets/colab-badge.svg\" alt=\"Open In Colab\"/></a>"
      ]
    },
    {
      "cell_type": "markdown",
      "source": [
        "### Loading Files and Preprocessing Text\n",
        "\n"
      ],
      "metadata": {
        "id": "RK-L6uC7IPf_"
      }
    },
    {
      "cell_type": "code",
      "source": [
        "from google.colab import files\n",
        "\n",
        "uploaded = files.upload()\n",
        "\n",
        "for fn in uploaded.keys():\n",
        "  print('User uploaded file \"{name}\" with length {length} bytes'.format(\n",
        "      name=fn, length=len(uploaded[fn])))"
      ],
      "metadata": {
        "id": "L2IKFT_jnTV6"
      },
      "execution_count": null,
      "outputs": []
    },
    {
      "cell_type": "code",
      "source": [
        "import pandas as pd\n",
        "import numpy as np\n",
        "import seaborn as sns\n",
        "import sklearn\n",
        "import tensorflow as tf\n",
        "import re\n",
        "import math\n",
        "import io\n",
        "import scipy"
      ],
      "metadata": {
        "id": "di2z9L6fnoGo"
      },
      "execution_count": null,
      "outputs": []
    },
    {
      "cell_type": "code",
      "source": [
        "example_technical_skills = pd.read_csv('/content/Example_Technical_Skills.csv')"
      ],
      "metadata": {
        "id": "VD8QYSvdnjoD"
      },
      "execution_count": null,
      "outputs": []
    },
    {
      "cell_type": "code",
      "source": [
        "example_technical_skills.head()"
      ],
      "metadata": {
        "id": "uosFfl8on1yr",
        "outputId": "ba8ad198-cdf3-4ceb-c253-f8e0d9f10699",
        "colab": {
          "base_uri": "https://localhost:8080/",
          "height": 206
        }
      },
      "execution_count": null,
      "outputs": [
        {
          "output_type": "execute_result",
          "data": {
            "text/plain": [
              "                       Technology Skills\n",
              "0                    SAP Fiori Developer\n",
              "1  Oracle Instance Management & Strategy\n",
              "2           Boomi Master Data Management\n",
              "3  Digital Manufacturing on Cloud ( DMC)\n",
              "4                                 DevOps"
            ],
            "text/html": [
              "\n",
              "  <div id=\"df-ec7efeca-0921-4435-8fa6-5fa3a160d915\">\n",
              "    <div class=\"colab-df-container\">\n",
              "      <div>\n",
              "<style scoped>\n",
              "    .dataframe tbody tr th:only-of-type {\n",
              "        vertical-align: middle;\n",
              "    }\n",
              "\n",
              "    .dataframe tbody tr th {\n",
              "        vertical-align: top;\n",
              "    }\n",
              "\n",
              "    .dataframe thead th {\n",
              "        text-align: right;\n",
              "    }\n",
              "</style>\n",
              "<table border=\"1\" class=\"dataframe\">\n",
              "  <thead>\n",
              "    <tr style=\"text-align: right;\">\n",
              "      <th></th>\n",
              "      <th>Technology Skills</th>\n",
              "    </tr>\n",
              "  </thead>\n",
              "  <tbody>\n",
              "    <tr>\n",
              "      <th>0</th>\n",
              "      <td>SAP Fiori Developer</td>\n",
              "    </tr>\n",
              "    <tr>\n",
              "      <th>1</th>\n",
              "      <td>Oracle Instance Management &amp; Strategy</td>\n",
              "    </tr>\n",
              "    <tr>\n",
              "      <th>2</th>\n",
              "      <td>Boomi Master Data Management</td>\n",
              "    </tr>\n",
              "    <tr>\n",
              "      <th>3</th>\n",
              "      <td>Digital Manufacturing on Cloud ( DMC)</td>\n",
              "    </tr>\n",
              "    <tr>\n",
              "      <th>4</th>\n",
              "      <td>DevOps</td>\n",
              "    </tr>\n",
              "  </tbody>\n",
              "</table>\n",
              "</div>\n",
              "      <button class=\"colab-df-convert\" onclick=\"convertToInteractive('df-ec7efeca-0921-4435-8fa6-5fa3a160d915')\"\n",
              "              title=\"Convert this dataframe to an interactive table.\"\n",
              "              style=\"display:none;\">\n",
              "        \n",
              "  <svg xmlns=\"http://www.w3.org/2000/svg\" height=\"24px\"viewBox=\"0 0 24 24\"\n",
              "       width=\"24px\">\n",
              "    <path d=\"M0 0h24v24H0V0z\" fill=\"none\"/>\n",
              "    <path d=\"M18.56 5.44l.94 2.06.94-2.06 2.06-.94-2.06-.94-.94-2.06-.94 2.06-2.06.94zm-11 1L8.5 8.5l.94-2.06 2.06-.94-2.06-.94L8.5 2.5l-.94 2.06-2.06.94zm10 10l.94 2.06.94-2.06 2.06-.94-2.06-.94-.94-2.06-.94 2.06-2.06.94z\"/><path d=\"M17.41 7.96l-1.37-1.37c-.4-.4-.92-.59-1.43-.59-.52 0-1.04.2-1.43.59L10.3 9.45l-7.72 7.72c-.78.78-.78 2.05 0 2.83L4 21.41c.39.39.9.59 1.41.59.51 0 1.02-.2 1.41-.59l7.78-7.78 2.81-2.81c.8-.78.8-2.07 0-2.86zM5.41 20L4 18.59l7.72-7.72 1.47 1.35L5.41 20z\"/>\n",
              "  </svg>\n",
              "      </button>\n",
              "      \n",
              "  <style>\n",
              "    .colab-df-container {\n",
              "      display:flex;\n",
              "      flex-wrap:wrap;\n",
              "      gap: 12px;\n",
              "    }\n",
              "\n",
              "    .colab-df-convert {\n",
              "      background-color: #E8F0FE;\n",
              "      border: none;\n",
              "      border-radius: 50%;\n",
              "      cursor: pointer;\n",
              "      display: none;\n",
              "      fill: #1967D2;\n",
              "      height: 32px;\n",
              "      padding: 0 0 0 0;\n",
              "      width: 32px;\n",
              "    }\n",
              "\n",
              "    .colab-df-convert:hover {\n",
              "      background-color: #E2EBFA;\n",
              "      box-shadow: 0px 1px 2px rgba(60, 64, 67, 0.3), 0px 1px 3px 1px rgba(60, 64, 67, 0.15);\n",
              "      fill: #174EA6;\n",
              "    }\n",
              "\n",
              "    [theme=dark] .colab-df-convert {\n",
              "      background-color: #3B4455;\n",
              "      fill: #D2E3FC;\n",
              "    }\n",
              "\n",
              "    [theme=dark] .colab-df-convert:hover {\n",
              "      background-color: #434B5C;\n",
              "      box-shadow: 0px 1px 3px 1px rgba(0, 0, 0, 0.15);\n",
              "      filter: drop-shadow(0px 1px 2px rgba(0, 0, 0, 0.3));\n",
              "      fill: #FFFFFF;\n",
              "    }\n",
              "  </style>\n",
              "\n",
              "      <script>\n",
              "        const buttonEl =\n",
              "          document.querySelector('#df-ec7efeca-0921-4435-8fa6-5fa3a160d915 button.colab-df-convert');\n",
              "        buttonEl.style.display =\n",
              "          google.colab.kernel.accessAllowed ? 'block' : 'none';\n",
              "\n",
              "        async function convertToInteractive(key) {\n",
              "          const element = document.querySelector('#df-ec7efeca-0921-4435-8fa6-5fa3a160d915');\n",
              "          const dataTable =\n",
              "            await google.colab.kernel.invokeFunction('convertToInteractive',\n",
              "                                                     [key], {});\n",
              "          if (!dataTable) return;\n",
              "\n",
              "          const docLinkHtml = 'Like what you see? Visit the ' +\n",
              "            '<a target=\"_blank\" href=https://colab.research.google.com/notebooks/data_table.ipynb>data table notebook</a>'\n",
              "            + ' to learn more about interactive tables.';\n",
              "          element.innerHTML = '';\n",
              "          dataTable['output_type'] = 'display_data';\n",
              "          await google.colab.output.renderOutput(dataTable, element);\n",
              "          const docLink = document.createElement('div');\n",
              "          docLink.innerHTML = docLinkHtml;\n",
              "          element.appendChild(docLink);\n",
              "        }\n",
              "      </script>\n",
              "    </div>\n",
              "  </div>\n",
              "  "
            ]
          },
          "metadata": {},
          "execution_count": 31
        }
      ]
    },
    {
      "cell_type": "code",
      "source": [
        "raw_skills = pd.read_csv('/content/Raw_Skills_Dataset.csv')"
      ],
      "metadata": {
        "id": "Ci2Dc74YoQBC"
      },
      "execution_count": null,
      "outputs": []
    },
    {
      "cell_type": "code",
      "source": [
        "raw_skills.head()"
      ],
      "metadata": {
        "id": "-de_0BAwoWJD",
        "outputId": "4820b570-dc3e-4a6d-9f80-3d2270112141",
        "colab": {
          "base_uri": "https://localhost:8080/",
          "height": 206
        }
      },
      "execution_count": null,
      "outputs": [
        {
          "output_type": "execute_result",
          "data": {
            "text/plain": [
              "          RAW DATA\n",
              "0         What ifs\n",
              "1        seniority\n",
              "2      familiarity\n",
              "3  functionalities\n",
              "4          Lambdas"
            ],
            "text/html": [
              "\n",
              "  <div id=\"df-108b4417-3740-40ae-ba78-b13d38bfbc8c\">\n",
              "    <div class=\"colab-df-container\">\n",
              "      <div>\n",
              "<style scoped>\n",
              "    .dataframe tbody tr th:only-of-type {\n",
              "        vertical-align: middle;\n",
              "    }\n",
              "\n",
              "    .dataframe tbody tr th {\n",
              "        vertical-align: top;\n",
              "    }\n",
              "\n",
              "    .dataframe thead th {\n",
              "        text-align: right;\n",
              "    }\n",
              "</style>\n",
              "<table border=\"1\" class=\"dataframe\">\n",
              "  <thead>\n",
              "    <tr style=\"text-align: right;\">\n",
              "      <th></th>\n",
              "      <th>RAW DATA</th>\n",
              "    </tr>\n",
              "  </thead>\n",
              "  <tbody>\n",
              "    <tr>\n",
              "      <th>0</th>\n",
              "      <td>What ifs</td>\n",
              "    </tr>\n",
              "    <tr>\n",
              "      <th>1</th>\n",
              "      <td>seniority</td>\n",
              "    </tr>\n",
              "    <tr>\n",
              "      <th>2</th>\n",
              "      <td>familiarity</td>\n",
              "    </tr>\n",
              "    <tr>\n",
              "      <th>3</th>\n",
              "      <td>functionalities</td>\n",
              "    </tr>\n",
              "    <tr>\n",
              "      <th>4</th>\n",
              "      <td>Lambdas</td>\n",
              "    </tr>\n",
              "  </tbody>\n",
              "</table>\n",
              "</div>\n",
              "      <button class=\"colab-df-convert\" onclick=\"convertToInteractive('df-108b4417-3740-40ae-ba78-b13d38bfbc8c')\"\n",
              "              title=\"Convert this dataframe to an interactive table.\"\n",
              "              style=\"display:none;\">\n",
              "        \n",
              "  <svg xmlns=\"http://www.w3.org/2000/svg\" height=\"24px\"viewBox=\"0 0 24 24\"\n",
              "       width=\"24px\">\n",
              "    <path d=\"M0 0h24v24H0V0z\" fill=\"none\"/>\n",
              "    <path d=\"M18.56 5.44l.94 2.06.94-2.06 2.06-.94-2.06-.94-.94-2.06-.94 2.06-2.06.94zm-11 1L8.5 8.5l.94-2.06 2.06-.94-2.06-.94L8.5 2.5l-.94 2.06-2.06.94zm10 10l.94 2.06.94-2.06 2.06-.94-2.06-.94-.94-2.06-.94 2.06-2.06.94z\"/><path d=\"M17.41 7.96l-1.37-1.37c-.4-.4-.92-.59-1.43-.59-.52 0-1.04.2-1.43.59L10.3 9.45l-7.72 7.72c-.78.78-.78 2.05 0 2.83L4 21.41c.39.39.9.59 1.41.59.51 0 1.02-.2 1.41-.59l7.78-7.78 2.81-2.81c.8-.78.8-2.07 0-2.86zM5.41 20L4 18.59l7.72-7.72 1.47 1.35L5.41 20z\"/>\n",
              "  </svg>\n",
              "      </button>\n",
              "      \n",
              "  <style>\n",
              "    .colab-df-container {\n",
              "      display:flex;\n",
              "      flex-wrap:wrap;\n",
              "      gap: 12px;\n",
              "    }\n",
              "\n",
              "    .colab-df-convert {\n",
              "      background-color: #E8F0FE;\n",
              "      border: none;\n",
              "      border-radius: 50%;\n",
              "      cursor: pointer;\n",
              "      display: none;\n",
              "      fill: #1967D2;\n",
              "      height: 32px;\n",
              "      padding: 0 0 0 0;\n",
              "      width: 32px;\n",
              "    }\n",
              "\n",
              "    .colab-df-convert:hover {\n",
              "      background-color: #E2EBFA;\n",
              "      box-shadow: 0px 1px 2px rgba(60, 64, 67, 0.3), 0px 1px 3px 1px rgba(60, 64, 67, 0.15);\n",
              "      fill: #174EA6;\n",
              "    }\n",
              "\n",
              "    [theme=dark] .colab-df-convert {\n",
              "      background-color: #3B4455;\n",
              "      fill: #D2E3FC;\n",
              "    }\n",
              "\n",
              "    [theme=dark] .colab-df-convert:hover {\n",
              "      background-color: #434B5C;\n",
              "      box-shadow: 0px 1px 3px 1px rgba(0, 0, 0, 0.15);\n",
              "      filter: drop-shadow(0px 1px 2px rgba(0, 0, 0, 0.3));\n",
              "      fill: #FFFFFF;\n",
              "    }\n",
              "  </style>\n",
              "\n",
              "      <script>\n",
              "        const buttonEl =\n",
              "          document.querySelector('#df-108b4417-3740-40ae-ba78-b13d38bfbc8c button.colab-df-convert');\n",
              "        buttonEl.style.display =\n",
              "          google.colab.kernel.accessAllowed ? 'block' : 'none';\n",
              "\n",
              "        async function convertToInteractive(key) {\n",
              "          const element = document.querySelector('#df-108b4417-3740-40ae-ba78-b13d38bfbc8c');\n",
              "          const dataTable =\n",
              "            await google.colab.kernel.invokeFunction('convertToInteractive',\n",
              "                                                     [key], {});\n",
              "          if (!dataTable) return;\n",
              "\n",
              "          const docLinkHtml = 'Like what you see? Visit the ' +\n",
              "            '<a target=\"_blank\" href=https://colab.research.google.com/notebooks/data_table.ipynb>data table notebook</a>'\n",
              "            + ' to learn more about interactive tables.';\n",
              "          element.innerHTML = '';\n",
              "          dataTable['output_type'] = 'display_data';\n",
              "          await google.colab.output.renderOutput(dataTable, element);\n",
              "          const docLink = document.createElement('div');\n",
              "          docLink.innerHTML = docLinkHtml;\n",
              "          element.appendChild(docLink);\n",
              "        }\n",
              "      </script>\n",
              "    </div>\n",
              "  </div>\n",
              "  "
            ]
          },
          "metadata": {},
          "execution_count": 33
        }
      ]
    },
    {
      "cell_type": "code",
      "source": [
        "example_technical_skills['Technology Skills']"
      ],
      "metadata": {
        "id": "JDva1bjetecW",
        "outputId": "6cbbfebb-2326-4428-f386-a9d157ca0270",
        "colab": {
          "base_uri": "https://localhost:8080/"
        }
      },
      "execution_count": null,
      "outputs": [
        {
          "output_type": "execute_result",
          "data": {
            "text/plain": [
              "0                        SAP Fiori Developer\n",
              "1      Oracle Instance Management & Strategy\n",
              "2               Boomi Master Data Management\n",
              "3      Digital Manufacturing on Cloud ( DMC)\n",
              "4                                     DevOps\n",
              "                       ...                  \n",
              "974          Oracle Cloud Revenue Management\n",
              "975         Oracle EBS Grid Contral Mgt Pack\n",
              "976           Amazon Elastic MapReduce (EMR)\n",
              "977                              Apache Kudu\n",
              "978                               Oracle ESB\n",
              "Name: Technology Skills, Length: 979, dtype: object"
            ]
          },
          "metadata": {},
          "execution_count": 34
        }
      ]
    },
    {
      "cell_type": "code",
      "source": [
        "def preprocess(skill, pattern):\n",
        "  skill = skill.lower()\n",
        "  skill = re.sub(pattern, ' ', skill)\n",
        "  skill = skill.split(\" \")[0]\n",
        "  return skill"
      ],
      "metadata": {
        "id": "cg-ZYMo56wG8"
      },
      "execution_count": null,
      "outputs": []
    },
    {
      "cell_type": "code",
      "source": [
        "askills = list(raw_skills['RAW DATA'][:])\n",
        "tskills = list(example_technical_skills['Technology Skills'][:])\n",
        "skills = []\n",
        "labels = []\n",
        "pattern = re.compile(r\"[^a-zA-Z]\")"
      ],
      "metadata": {
        "id": "Iui6nnibpF0a"
      },
      "execution_count": null,
      "outputs": []
    },
    {
      "cell_type": "code",
      "source": [
        "for skill in askills:\n",
        "  processed_skill = preprocess(skill, pattern)\n",
        "  if len(processed_skill) < 3 or processed_skill in skills:\n",
        "    continue\n",
        "  skills.append(processed_skill)\n",
        "  if skill in tskills:\n",
        "    labels.append(1)\n",
        "  else:\n",
        "    labels.append(0)"
      ],
      "metadata": {
        "id": "TreqaFWVmsU1"
      },
      "execution_count": null,
      "outputs": []
    },
    {
      "cell_type": "code",
      "source": [
        "dataset = pd.DataFrame({\n",
        "    'skill' : skills,\n",
        "    'isTechnical' : labels\n",
        "})"
      ],
      "metadata": {
        "id": "mrAW7bkxuR5w"
      },
      "execution_count": null,
      "outputs": []
    },
    {
      "cell_type": "code",
      "source": [
        "known_tech_skills = list(dataset[dataset['isTechnical']== 1]['skill'])"
      ],
      "metadata": {
        "id": "u-A7TRrCzXi0"
      },
      "execution_count": null,
      "outputs": []
    },
    {
      "cell_type": "code",
      "source": [
        "known_tech_skills"
      ],
      "metadata": {
        "id": "HLVpab08u31y",
        "outputId": "caff4ef4-c561-412a-9790-13f8a37dc987",
        "colab": {
          "base_uri": "https://localhost:8080/"
        }
      },
      "execution_count": null,
      "outputs": [
        {
          "output_type": "execute_result",
          "data": {
            "text/plain": [
              "['mysql',\n",
              " 'scss',\n",
              " 'eac',\n",
              " 'openshift',\n",
              " 'netsuite',\n",
              " 'ethereum',\n",
              " 'ftp',\n",
              " 'onestream',\n",
              " 'consul',\n",
              " 'force',\n",
              " 'phantom',\n",
              " 'magento',\n",
              " 'activemq',\n",
              " 'postgis',\n",
              " 'drm',\n",
              " 'katalon']"
            ]
          },
          "metadata": {},
          "execution_count": 421
        }
      ]
    },
    {
      "cell_type": "code",
      "source": [
        "known_tech_skills.extend(['python', 'java', 'react', 'javascript'])"
      ],
      "metadata": {
        "id": "Pf_NLxxcwK_P"
      },
      "execution_count": null,
      "outputs": []
    },
    {
      "cell_type": "code",
      "source": [
        "dataset[dataset['isTechnical'] == 0].count()"
      ],
      "metadata": {
        "id": "zz81fL-JomjJ",
        "outputId": "d7e9b860-c0e6-4c01-9b15-d2c4c30b4ff9",
        "colab": {
          "base_uri": "https://localhost:8080/"
        }
      },
      "execution_count": null,
      "outputs": [
        {
          "output_type": "execute_result",
          "data": {
            "text/plain": [
              "skill          4036\n",
              "isTechnical    4036\n",
              "dtype: int64"
            ]
          },
          "metadata": {},
          "execution_count": 423
        }
      ]
    },
    {
      "cell_type": "code",
      "source": [
        "vectorizer = tf.keras.layers.TextVectorization()\n",
        "text_ds = tf.data.Dataset.from_tensor_slices(dataset['skill'])\n",
        "vectorizer.adapt(text_ds)"
      ],
      "metadata": {
        "id": "zpqMx0fc0K8L"
      },
      "execution_count": null,
      "outputs": []
    },
    {
      "cell_type": "code",
      "source": [
        "model = tf.keras.models.Sequential([\n",
        "  vectorizer,\n",
        "  tf.keras.layers.Embedding(VOCAB_SIZE, EMBEDDING_DIMS, input_length=1, name=\"embedding\"),\n",
        "  tf.keras.layers.GlobalAveragePooling1D(),\n",
        "  tf.keras.layers.Dense(16, activation='relu'),\n",
        "  tf.keras.layers.Dense(1, activation='sigmoid')\n",
        "])"
      ],
      "metadata": {
        "id": "mqEx8gvC4Xom"
      },
      "execution_count": null,
      "outputs": []
    },
    {
      "cell_type": "code",
      "source": [
        "path = '/content/logs'\n",
        "tensorboard_callback = tf.keras.callbacks.TensorBoard(log_dir=path)\n",
        "model.compile(optimizer='adam',\n",
        "              loss=tf.keras.losses.BinaryCrossentropy(),\n",
        "              metrics=['accuracy'])"
      ],
      "metadata": {
        "id": "LnT-8ZGk5U7E"
      },
      "execution_count": null,
      "outputs": []
    },
    {
      "cell_type": "markdown",
      "source": [
        "### REPEAT"
      ],
      "metadata": {
        "id": "8SKhkjmt5IYQ"
      }
    },
    {
      "cell_type": "code",
      "source": [
        "tf_ds = tf.data.Dataset.from_tensor_slices((dataset['skill'], dataset['isTechnical']))"
      ],
      "metadata": {
        "id": "zmHG3w-e2nLk"
      },
      "execution_count": null,
      "outputs": []
    },
    {
      "cell_type": "code",
      "source": [
        "tf_ds.cardinality()"
      ],
      "metadata": {
        "id": "GxjET5IX3XfD",
        "outputId": "cb84f0cb-82dd-4d96-9075-a1377d39dd4c",
        "colab": {
          "base_uri": "https://localhost:8080/"
        }
      },
      "execution_count": null,
      "outputs": [
        {
          "output_type": "execute_result",
          "data": {
            "text/plain": [
              "<tf.Tensor: shape=(), dtype=int64, numpy=4052>"
            ]
          },
          "metadata": {},
          "execution_count": 454
        }
      ]
    },
    {
      "cell_type": "code",
      "source": [
        "BATCH = 64\n",
        "BUFFER_SIZE = tf_ds.cardinality().numpy()\n",
        "EMBEDDING_DIMS = 128"
      ],
      "metadata": {
        "id": "MEih0BTk0bEt"
      },
      "execution_count": null,
      "outputs": []
    },
    {
      "cell_type": "code",
      "source": [
        "tf_ds = tf_ds.batch(BATCH).shuffle(BUFFER_SIZE).cache().prefetch(tf.data.AUTOTUNE)"
      ],
      "metadata": {
        "id": "Q_gvHvOw3xCD"
      },
      "execution_count": null,
      "outputs": []
    },
    {
      "cell_type": "code",
      "source": [
        "test_size = int(tf_ds.cardinality().numpy() * 15 / 100)\n",
        "test_ds = tf_ds.take(test_size)\n",
        "train_ds = tf_ds.skip(test_size)"
      ],
      "metadata": {
        "id": "oExQv4nS53dd"
      },
      "execution_count": null,
      "outputs": []
    },
    {
      "cell_type": "code",
      "source": [
        "VOCAB_SIZE = vectorizer.vocabulary_size()"
      ],
      "metadata": {
        "id": "AezOzO3b0h5w"
      },
      "execution_count": null,
      "outputs": []
    },
    {
      "cell_type": "code",
      "source": [
        "VOCAB_SIZE"
      ],
      "metadata": {
        "id": "rJ3VyjYm4KGE",
        "outputId": "7dadbf19-5bd1-4769-fa3f-3c11f404bb73",
        "colab": {
          "base_uri": "https://localhost:8080/"
        }
      },
      "execution_count": null,
      "outputs": [
        {
          "output_type": "execute_result",
          "data": {
            "text/plain": [
              "4054"
            ]
          },
          "metadata": {},
          "execution_count": 459
        }
      ]
    },
    {
      "cell_type": "code",
      "source": [
        "model.fit(\n",
        "    train_ds,\n",
        "    validation_data=test_ds,\n",
        "    epochs=5,\n",
        "    callbacks=[tensorboard_callback])"
      ],
      "metadata": {
        "id": "H1HJ5aB75tzl",
        "outputId": "56822859-9eba-4261-c28d-77c4f7591fa1",
        "colab": {
          "base_uri": "https://localhost:8080/"
        }
      },
      "execution_count": null,
      "outputs": [
        {
          "output_type": "stream",
          "name": "stdout",
          "text": [
            "Epoch 1/5\n",
            "55/55 [==============================] - 0s 7ms/step - loss: 0.0374 - accuracy: 0.9873 - val_loss: 0.0315 - val_accuracy: 0.9896\n",
            "Epoch 2/5\n",
            "55/55 [==============================] - 0s 7ms/step - loss: 0.0162 - accuracy: 0.9882 - val_loss: 0.0316 - val_accuracy: 0.9896\n",
            "Epoch 3/5\n",
            "55/55 [==============================] - 0s 7ms/step - loss: 0.0119 - accuracy: 0.9925 - val_loss: 0.0317 - val_accuracy: 0.9913\n",
            "Epoch 4/5\n",
            "55/55 [==============================] - 0s 7ms/step - loss: 0.0095 - accuracy: 0.9983 - val_loss: 0.0314 - val_accuracy: 0.9931\n",
            "Epoch 5/5\n",
            "55/55 [==============================] - 0s 7ms/step - loss: 0.0071 - accuracy: 1.0000 - val_loss: 0.0310 - val_accuracy: 0.9965\n"
          ]
        },
        {
          "output_type": "execute_result",
          "data": {
            "text/plain": [
              "<keras.callbacks.History at 0x7fd65fbf2510>"
            ]
          },
          "metadata": {},
          "execution_count": 460
        }
      ]
    },
    {
      "cell_type": "code",
      "source": [
        "weights = model.get_layer('embedding').get_weights()[0]\n",
        "vocab = vectorizer.get_vocabulary()"
      ],
      "metadata": {
        "id": "zNDVttTJ_mhI"
      },
      "execution_count": null,
      "outputs": []
    },
    {
      "cell_type": "code",
      "source": [
        "def cal_cosine_similarity(vector, embeddings):\n",
        "  vector = tf.expand_dims(vector, 0)\n",
        "  similarities = tf.losses.cosine_similarity(vector, embeddings)\n",
        "  return similarities"
      ],
      "metadata": {
        "id": "MQDpNxM3gK_6"
      },
      "execution_count": null,
      "outputs": []
    },
    {
      "cell_type": "code",
      "source": [
        "dataset['isTechnical'] = 0"
      ],
      "metadata": {
        "id": "PKhUhE67p-my"
      },
      "execution_count": null,
      "outputs": []
    },
    {
      "cell_type": "code",
      "source": [
        "new_known_tech_skills = []\n",
        "for idx, vector in enumerate(weights):\n",
        "  sim = cal_cosine_similarity(vector, weights)\n",
        "  top_3_sim = tf.argsort(sim)[:3]\n",
        "  if vocab[idx] in known_tech_skills:\n",
        "    for dissimilarity, skill in zip(tf.gather(sim, top_3_sim), tf.gather(vocab, top_3_sim)):\n",
        "        print(dissimilarity, skill)\n",
        "        dataset.loc[dataset['skill'] == skill, 'isTechnical'] = 1\n",
        "        new_known_tech_skills.append(skill)\n",
        "    print(\"\\n\")\n",
        "known_tech_skills = new_known_tech_skills"
      ],
      "metadata": {
        "id": "Kn_q3_0GfQRF",
        "outputId": "3e587f8c-b791-4960-a331-4e24836f4203",
        "colab": {
          "base_uri": "https://localhost:8080/"
        }
      },
      "execution_count": null,
      "outputs": [
        {
          "output_type": "stream",
          "name": "stdout",
          "text": [
            "tf.Tensor(-1.0, shape=(), dtype=float32) tf.Tensor(b'wireline', shape=(), dtype=string)\n",
            "tf.Tensor(-0.62640214, shape=(), dtype=float32) tf.Tensor(b'consul', shape=(), dtype=string)\n",
            "tf.Tensor(-0.5740413, shape=(), dtype=float32) tf.Tensor(b'force', shape=(), dtype=string)\n",
            "\n",
            "\n",
            "tf.Tensor(-1.0, shape=(), dtype=float32) tf.Tensor(b'valid', shape=(), dtype=string)\n",
            "tf.Tensor(-0.61955714, shape=(), dtype=float32) tf.Tensor(b'evolving', shape=(), dtype=string)\n",
            "tf.Tensor(-0.6190408, shape=(), dtype=float32) tf.Tensor(b'eac', shape=(), dtype=string)\n",
            "\n",
            "\n",
            "tf.Tensor(-0.99999994, shape=(), dtype=float32) tf.Tensor(b'tight', shape=(), dtype=string)\n",
            "tf.Tensor(-0.732775, shape=(), dtype=float32) tf.Tensor(b'tam', shape=(), dtype=string)\n",
            "tf.Tensor(-0.7295621, shape=(), dtype=float32) tf.Tensor(b'iic', shape=(), dtype=string)\n",
            "\n",
            "\n",
            "tf.Tensor(-0.9999999, shape=(), dtype=float32) tf.Tensor(b'streaming', shape=(), dtype=string)\n",
            "tf.Tensor(-0.48486957, shape=(), dtype=float32) tf.Tensor(b'compute', shape=(), dtype=string)\n",
            "tf.Tensor(-0.45951414, shape=(), dtype=float32) tf.Tensor(b'react', shape=(), dtype=string)\n",
            "\n",
            "\n",
            "tf.Tensor(-1.0, shape=(), dtype=float32) tf.Tensor(b'speckflow', shape=(), dtype=string)\n",
            "tf.Tensor(-0.493823, shape=(), dtype=float32) tf.Tensor(b'skill', shape=(), dtype=string)\n",
            "tf.Tensor(-0.48700926, shape=(), dtype=float32) tf.Tensor(b'java', shape=(), dtype=string)\n",
            "\n",
            "\n",
            "tf.Tensor(-1.0, shape=(), dtype=float32) tf.Tensor(b'specification', shape=(), dtype=string)\n",
            "tf.Tensor(-0.71752906, shape=(), dtype=float32) tf.Tensor(b'snoop', shape=(), dtype=string)\n",
            "tf.Tensor(-0.7174384, shape=(), dtype=float32) tf.Tensor(b'tetra', shape=(), dtype=string)\n",
            "\n",
            "\n",
            "tf.Tensor(-1.0, shape=(), dtype=float32) tf.Tensor(b'sow', shape=(), dtype=string)\n",
            "tf.Tensor(-0.5396477, shape=(), dtype=float32) tf.Tensor(b'acf', shape=(), dtype=string)\n",
            "tf.Tensor(-0.5338032, shape=(), dtype=float32) tf.Tensor(b'valid', shape=(), dtype=string)\n",
            "\n",
            "\n",
            "tf.Tensor(-0.99999994, shape=(), dtype=float32) tf.Tensor(b'sonder', shape=(), dtype=string)\n",
            "tf.Tensor(-0.557183, shape=(), dtype=float32) tf.Tensor(b'postgis', shape=(), dtype=string)\n",
            "tf.Tensor(-0.5366722, shape=(), dtype=float32) tf.Tensor(b'activemq', shape=(), dtype=string)\n",
            "\n",
            "\n",
            "tf.Tensor(-1.0000002, shape=(), dtype=float32) tf.Tensor(b'skill', shape=(), dtype=string)\n",
            "tf.Tensor(-0.66196334, shape=(), dtype=float32) tf.Tensor(b'netsuite', shape=(), dtype=string)\n",
            "tf.Tensor(-0.6479572, shape=(), dtype=float32) tf.Tensor(b'scss', shape=(), dtype=string)\n",
            "\n",
            "\n",
            "tf.Tensor(-0.99999994, shape=(), dtype=float32) tf.Tensor(b'scss', shape=(), dtype=string)\n",
            "tf.Tensor(-0.8113924, shape=(), dtype=float32) tf.Tensor(b'force', shape=(), dtype=string)\n",
            "tf.Tensor(-0.77494586, shape=(), dtype=float32) tf.Tensor(b'consul', shape=(), dtype=string)\n",
            "\n",
            "\n",
            "tf.Tensor(-1.0, shape=(), dtype=float32) tf.Tensor(b'react', shape=(), dtype=string)\n",
            "tf.Tensor(-0.4595142, shape=(), dtype=float32) tf.Tensor(b'streaming', shape=(), dtype=string)\n",
            "tf.Tensor(-0.42202267, shape=(), dtype=float32) tf.Tensor(b'openness', shape=(), dtype=string)\n",
            "\n",
            "\n",
            "tf.Tensor(-1.0, shape=(), dtype=float32) tf.Tensor(b'python', shape=(), dtype=string)\n",
            "tf.Tensor(-0.42786282, shape=(), dtype=float32) tf.Tensor(b'model', shape=(), dtype=string)\n",
            "tf.Tensor(-0.38227037, shape=(), dtype=float32) tf.Tensor(b'consul', shape=(), dtype=string)\n",
            "\n",
            "\n",
            "tf.Tensor(-0.9999999, shape=(), dtype=float32) tf.Tensor(b'publicly', shape=(), dtype=string)\n",
            "tf.Tensor(-0.653622, shape=(), dtype=float32) tf.Tensor(b'dms', shape=(), dtype=string)\n",
            "tf.Tensor(-0.59402245, shape=(), dtype=float32) tf.Tensor(b'magento', shape=(), dtype=string)\n",
            "\n",
            "\n",
            "tf.Tensor(-1.0, shape=(), dtype=float32) tf.Tensor(b'protobuf', shape=(), dtype=string)\n",
            "tf.Tensor(-0.5626856, shape=(), dtype=float32) tf.Tensor(b'acf', shape=(), dtype=string)\n",
            "tf.Tensor(-0.55569845, shape=(), dtype=float32) tf.Tensor(b'onestream', shape=(), dtype=string)\n",
            "\n",
            "\n",
            "tf.Tensor(-0.9999999, shape=(), dtype=float32) tf.Tensor(b'printers', shape=(), dtype=string)\n",
            "tf.Tensor(-0.6194472, shape=(), dtype=float32) tf.Tensor(b'leverages', shape=(), dtype=string)\n",
            "tf.Tensor(-0.52475566, shape=(), dtype=float32) tf.Tensor(b'billing', shape=(), dtype=string)\n",
            "\n",
            "\n",
            "tf.Tensor(-0.9999999, shape=(), dtype=float32) tf.Tensor(b'postgis', shape=(), dtype=string)\n",
            "tf.Tensor(-0.75161743, shape=(), dtype=float32) tf.Tensor(b'force', shape=(), dtype=string)\n",
            "tf.Tensor(-0.7255586, shape=(), dtype=float32) tf.Tensor(b'eac', shape=(), dtype=string)\n",
            "\n",
            "\n",
            "tf.Tensor(-1.0, shape=(), dtype=float32) tf.Tensor(b'phantom', shape=(), dtype=string)\n",
            "tf.Tensor(-0.5428356, shape=(), dtype=float32) tf.Tensor(b'css', shape=(), dtype=string)\n",
            "tf.Tensor(-0.5016733, shape=(), dtype=float32) tf.Tensor(b'activemq', shape=(), dtype=string)\n",
            "\n",
            "\n",
            "tf.Tensor(-1.0000001, shape=(), dtype=float32) tf.Tensor(b'pega', shape=(), dtype=string)\n",
            "tf.Tensor(-0.61605877, shape=(), dtype=float32) tf.Tensor(b'valid', shape=(), dtype=string)\n",
            "tf.Tensor(-0.6112004, shape=(), dtype=float32) tf.Tensor(b'netsuite', shape=(), dtype=string)\n",
            "\n",
            "\n",
            "tf.Tensor(-0.9999999, shape=(), dtype=float32) tf.Tensor(b'overall', shape=(), dtype=string)\n",
            "tf.Tensor(-0.44911307, shape=(), dtype=float32) tf.Tensor(b'diverse', shape=(), dtype=string)\n",
            "tf.Tensor(-0.36987352, shape=(), dtype=float32) tf.Tensor(b'printers', shape=(), dtype=string)\n",
            "\n",
            "\n",
            "tf.Tensor(-1.0, shape=(), dtype=float32) tf.Tensor(b'openshift', shape=(), dtype=string)\n",
            "tf.Tensor(-0.46649897, shape=(), dtype=float32) tf.Tensor(b'activemq', shape=(), dtype=string)\n",
            "tf.Tensor(-0.4051515, shape=(), dtype=float32) tf.Tensor(b'scss', shape=(), dtype=string)\n",
            "\n",
            "\n",
            "tf.Tensor(-1.0, shape=(), dtype=float32) tf.Tensor(b'openness', shape=(), dtype=string)\n",
            "tf.Tensor(-0.5891535, shape=(), dtype=float32) tf.Tensor(b'activemq', shape=(), dtype=string)\n",
            "tf.Tensor(-0.58687043, shape=(), dtype=float32) tf.Tensor(b'laptops', shape=(), dtype=string)\n",
            "\n",
            "\n",
            "tf.Tensor(-1.0, shape=(), dtype=float32) tf.Tensor(b'onestream', shape=(), dtype=string)\n",
            "tf.Tensor(-0.6190366, shape=(), dtype=float32) tf.Tensor(b'evolving', shape=(), dtype=string)\n",
            "tf.Tensor(-0.60136986, shape=(), dtype=float32) tf.Tensor(b'eac', shape=(), dtype=string)\n",
            "\n",
            "\n",
            "tf.Tensor(-0.9999999, shape=(), dtype=float32) tf.Tensor(b'netsuite', shape=(), dtype=string)\n",
            "tf.Tensor(-0.66196334, shape=(), dtype=float32) tf.Tensor(b'skill', shape=(), dtype=string)\n",
            "tf.Tensor(-0.6605639, shape=(), dtype=float32) tf.Tensor(b'scss', shape=(), dtype=string)\n",
            "\n",
            "\n",
            "tf.Tensor(-1.0, shape=(), dtype=float32) tf.Tensor(b'mysql', shape=(), dtype=string)\n",
            "tf.Tensor(-0.7734338, shape=(), dtype=float32) tf.Tensor(b'scss', shape=(), dtype=string)\n",
            "tf.Tensor(-0.76546276, shape=(), dtype=float32) tf.Tensor(b'ethereum', shape=(), dtype=string)\n",
            "\n",
            "\n",
            "tf.Tensor(-0.9999999, shape=(), dtype=float32) tf.Tensor(b'model', shape=(), dtype=string)\n",
            "tf.Tensor(-0.42786288, shape=(), dtype=float32) tf.Tensor(b'python', shape=(), dtype=string)\n",
            "tf.Tensor(-0.4259963, shape=(), dtype=float32) tf.Tensor(b'acf', shape=(), dtype=string)\n",
            "\n",
            "\n",
            "tf.Tensor(-1.0, shape=(), dtype=float32) tf.Tensor(b'mcse', shape=(), dtype=string)\n",
            "tf.Tensor(-0.58643997, shape=(), dtype=float32) tf.Tensor(b'leverages', shape=(), dtype=string)\n",
            "tf.Tensor(-0.5761678, shape=(), dtype=float32) tf.Tensor(b'dms', shape=(), dtype=string)\n",
            "\n",
            "\n",
            "tf.Tensor(-0.99999994, shape=(), dtype=float32) tf.Tensor(b'makefiles', shape=(), dtype=string)\n",
            "tf.Tensor(-0.59563565, shape=(), dtype=float32) tf.Tensor(b'javascript', shape=(), dtype=string)\n",
            "tf.Tensor(-0.5752777, shape=(), dtype=float32) tf.Tensor(b'acf', shape=(), dtype=string)\n",
            "\n",
            "\n",
            "tf.Tensor(-0.99999994, shape=(), dtype=float32) tf.Tensor(b'magento', shape=(), dtype=string)\n",
            "tf.Tensor(-0.6274216, shape=(), dtype=float32) tf.Tensor(b'evolving', shape=(), dtype=string)\n",
            "tf.Tensor(-0.5987583, shape=(), dtype=float32) tf.Tensor(b'scss', shape=(), dtype=string)\n",
            "\n",
            "\n",
            "tf.Tensor(-1.0000002, shape=(), dtype=float32) tf.Tensor(b'leverages', shape=(), dtype=string)\n",
            "tf.Tensor(-0.6436676, shape=(), dtype=float32) tf.Tensor(b'eac', shape=(), dtype=string)\n",
            "tf.Tensor(-0.6212279, shape=(), dtype=float32) tf.Tensor(b'activemq', shape=(), dtype=string)\n",
            "\n",
            "\n",
            "tf.Tensor(-1.0000001, shape=(), dtype=float32) tf.Tensor(b'laptops', shape=(), dtype=string)\n",
            "tf.Tensor(-0.60944974, shape=(), dtype=float32) tf.Tensor(b'scss', shape=(), dtype=string)\n",
            "tf.Tensor(-0.58687043, shape=(), dtype=float32) tf.Tensor(b'openness', shape=(), dtype=string)\n",
            "\n",
            "\n",
            "tf.Tensor(-0.99999994, shape=(), dtype=float32) tf.Tensor(b'katalon', shape=(), dtype=string)\n",
            "tf.Tensor(-0.38069117, shape=(), dtype=float32) tf.Tensor(b'onestream', shape=(), dtype=string)\n",
            "tf.Tensor(-0.3514941, shape=(), dtype=float32) tf.Tensor(b'skill', shape=(), dtype=string)\n",
            "\n",
            "\n",
            "tf.Tensor(-1.0, shape=(), dtype=float32) tf.Tensor(b'javascript', shape=(), dtype=string)\n",
            "tf.Tensor(-0.6461649, shape=(), dtype=float32) tf.Tensor(b'acf', shape=(), dtype=string)\n",
            "tf.Tensor(-0.59563565, shape=(), dtype=float32) tf.Tensor(b'makefiles', shape=(), dtype=string)\n",
            "\n",
            "\n",
            "tf.Tensor(-0.99999994, shape=(), dtype=float32) tf.Tensor(b'java', shape=(), dtype=string)\n",
            "tf.Tensor(-0.4874758, shape=(), dtype=float32) tf.Tensor(b'acf', shape=(), dtype=string)\n",
            "tf.Tensor(-0.48700926, shape=(), dtype=float32) tf.Tensor(b'speckflow', shape=(), dtype=string)\n",
            "\n",
            "\n",
            "tf.Tensor(-0.99999994, shape=(), dtype=float32) tf.Tensor(b'increasingly', shape=(), dtype=string)\n",
            "tf.Tensor(-0.58070844, shape=(), dtype=float32) tf.Tensor(b'ftp', shape=(), dtype=string)\n",
            "tf.Tensor(-0.5245749, shape=(), dtype=float32) tf.Tensor(b'dms', shape=(), dtype=string)\n",
            "\n",
            "\n",
            "tf.Tensor(-1.0, shape=(), dtype=float32) tf.Tensor(b'ftp', shape=(), dtype=string)\n",
            "tf.Tensor(-0.6021526, shape=(), dtype=float32) tf.Tensor(b'scss', shape=(), dtype=string)\n",
            "tf.Tensor(-0.5980123, shape=(), dtype=float32) tf.Tensor(b'based', shape=(), dtype=string)\n",
            "\n",
            "\n",
            "tf.Tensor(-1.0000001, shape=(), dtype=float32) tf.Tensor(b'force', shape=(), dtype=string)\n",
            "tf.Tensor(-0.8113924, shape=(), dtype=float32) tf.Tensor(b'scss', shape=(), dtype=string)\n",
            "tf.Tensor(-0.75163585, shape=(), dtype=float32) tf.Tensor(b'mysql', shape=(), dtype=string)\n",
            "\n",
            "\n",
            "tf.Tensor(-1.0000001, shape=(), dtype=float32) tf.Tensor(b'factset', shape=(), dtype=string)\n",
            "tf.Tensor(-0.3904823, shape=(), dtype=float32) tf.Tensor(b'protobuf', shape=(), dtype=string)\n",
            "tf.Tensor(-0.3729688, shape=(), dtype=float32) tf.Tensor(b'python', shape=(), dtype=string)\n",
            "\n",
            "\n",
            "tf.Tensor(-0.9999999, shape=(), dtype=float32) tf.Tensor(b'evolving', shape=(), dtype=string)\n",
            "tf.Tensor(-0.6274216, shape=(), dtype=float32) tf.Tensor(b'magento', shape=(), dtype=string)\n",
            "tf.Tensor(-0.6195572, shape=(), dtype=float32) tf.Tensor(b'valid', shape=(), dtype=string)\n",
            "\n",
            "\n",
            "tf.Tensor(-1.0000001, shape=(), dtype=float32) tf.Tensor(b'ethereum', shape=(), dtype=string)\n",
            "tf.Tensor(-0.76546276, shape=(), dtype=float32) tf.Tensor(b'mysql', shape=(), dtype=string)\n",
            "tf.Tensor(-0.68758106, shape=(), dtype=float32) tf.Tensor(b'force', shape=(), dtype=string)\n",
            "\n",
            "\n",
            "tf.Tensor(-0.9999998, shape=(), dtype=float32) tf.Tensor(b'eac', shape=(), dtype=string)\n",
            "tf.Tensor(-0.73281264, shape=(), dtype=float32) tf.Tensor(b'force', shape=(), dtype=string)\n",
            "tf.Tensor(-0.7255585, shape=(), dtype=float32) tf.Tensor(b'postgis', shape=(), dtype=string)\n",
            "\n",
            "\n",
            "tf.Tensor(-1.0, shape=(), dtype=float32) tf.Tensor(b'drm', shape=(), dtype=string)\n",
            "tf.Tensor(-0.44100267, shape=(), dtype=float32) tf.Tensor(b'leverages', shape=(), dtype=string)\n",
            "tf.Tensor(-0.40725935, shape=(), dtype=float32) tf.Tensor(b'activemq', shape=(), dtype=string)\n",
            "\n",
            "\n",
            "tf.Tensor(-1.0000001, shape=(), dtype=float32) tf.Tensor(b'drivetrain', shape=(), dtype=string)\n",
            "tf.Tensor(-0.4608909, shape=(), dtype=float32) tf.Tensor(b'sow', shape=(), dtype=string)\n",
            "tf.Tensor(-0.44741607, shape=(), dtype=float32) tf.Tensor(b'phantom', shape=(), dtype=string)\n",
            "\n",
            "\n",
            "tf.Tensor(-0.9999998, shape=(), dtype=float32) tf.Tensor(b'dms', shape=(), dtype=string)\n",
            "tf.Tensor(-0.653622, shape=(), dtype=float32) tf.Tensor(b'publicly', shape=(), dtype=string)\n",
            "tf.Tensor(-0.6234976, shape=(), dtype=float32) tf.Tensor(b'scss', shape=(), dtype=string)\n",
            "\n",
            "\n",
            "tf.Tensor(-1.0, shape=(), dtype=float32) tf.Tensor(b'diverse', shape=(), dtype=string)\n",
            "tf.Tensor(-0.49387383, shape=(), dtype=float32) tf.Tensor(b'phantom', shape=(), dtype=string)\n",
            "tf.Tensor(-0.449113, shape=(), dtype=float32) tf.Tensor(b'overall', shape=(), dtype=string)\n",
            "\n",
            "\n",
            "tf.Tensor(-1.0, shape=(), dtype=float32) tf.Tensor(b'designer', shape=(), dtype=string)\n",
            "tf.Tensor(-0.44627345, shape=(), dtype=float32) tf.Tensor(b'evolving', shape=(), dtype=string)\n",
            "tf.Tensor(-0.42792618, shape=(), dtype=float32) tf.Tensor(b'magento', shape=(), dtype=string)\n",
            "\n",
            "\n",
            "tf.Tensor(-0.9999998, shape=(), dtype=float32) tf.Tensor(b'css', shape=(), dtype=string)\n",
            "tf.Tensor(-0.63817775, shape=(), dtype=float32) tf.Tensor(b'acf', shape=(), dtype=string)\n",
            "tf.Tensor(-0.5803981, shape=(), dtype=float32) tf.Tensor(b'consul', shape=(), dtype=string)\n",
            "\n",
            "\n",
            "tf.Tensor(-0.9999999, shape=(), dtype=float32) tf.Tensor(b'consul', shape=(), dtype=string)\n",
            "tf.Tensor(-0.774946, shape=(), dtype=float32) tf.Tensor(b'scss', shape=(), dtype=string)\n",
            "tf.Tensor(-0.7523109, shape=(), dtype=float32) tf.Tensor(b'mysql', shape=(), dtype=string)\n",
            "\n",
            "\n",
            "tf.Tensor(-0.9999999, shape=(), dtype=float32) tf.Tensor(b'compute', shape=(), dtype=string)\n",
            "tf.Tensor(-0.4848696, shape=(), dtype=float32) tf.Tensor(b'streaming', shape=(), dtype=string)\n",
            "tf.Tensor(-0.41441834, shape=(), dtype=float32) tf.Tensor(b'leverages', shape=(), dtype=string)\n",
            "\n",
            "\n",
            "tf.Tensor(-0.9999999, shape=(), dtype=float32) tf.Tensor(b'billing', shape=(), dtype=string)\n",
            "tf.Tensor(-0.5818559, shape=(), dtype=float32) tf.Tensor(b'valid', shape=(), dtype=string)\n",
            "tf.Tensor(-0.5766207, shape=(), dtype=float32) tf.Tensor(b'eac', shape=(), dtype=string)\n",
            "\n",
            "\n",
            "tf.Tensor(-1.0, shape=(), dtype=float32) tf.Tensor(b'bashbig', shape=(), dtype=string)\n",
            "tf.Tensor(-0.49733505, shape=(), dtype=float32) tf.Tensor(b'makefiles', shape=(), dtype=string)\n",
            "tf.Tensor(-0.39916497, shape=(), dtype=float32) tf.Tensor(b'activemq', shape=(), dtype=string)\n",
            "\n",
            "\n",
            "tf.Tensor(-1.0, shape=(), dtype=float32) tf.Tensor(b'based', shape=(), dtype=string)\n",
            "tf.Tensor(-0.5980123, shape=(), dtype=float32) tf.Tensor(b'ftp', shape=(), dtype=string)\n",
            "tf.Tensor(-0.48749733, shape=(), dtype=float32) tf.Tensor(b'evolving', shape=(), dtype=string)\n",
            "\n",
            "\n",
            "tf.Tensor(-1.0000001, shape=(), dtype=float32) tf.Tensor(b'animations', shape=(), dtype=string)\n",
            "tf.Tensor(-0.40908712, shape=(), dtype=float32) tf.Tensor(b'react', shape=(), dtype=string)\n",
            "tf.Tensor(-0.31248194, shape=(), dtype=float32) tf.Tensor(b'streaming', shape=(), dtype=string)\n",
            "\n",
            "\n",
            "tf.Tensor(-1.0000001, shape=(), dtype=float32) tf.Tensor(b'activemq', shape=(), dtype=string)\n",
            "tf.Tensor(-0.7468264, shape=(), dtype=float32) tf.Tensor(b'force', shape=(), dtype=string)\n",
            "tf.Tensor(-0.70364505, shape=(), dtype=float32) tf.Tensor(b'scss', shape=(), dtype=string)\n",
            "\n",
            "\n",
            "tf.Tensor(-1.0, shape=(), dtype=float32) tf.Tensor(b'acf', shape=(), dtype=string)\n",
            "tf.Tensor(-0.6461649, shape=(), dtype=float32) tf.Tensor(b'javascript', shape=(), dtype=string)\n",
            "tf.Tensor(-0.63817775, shape=(), dtype=float32) tf.Tensor(b'css', shape=(), dtype=string)\n",
            "\n",
            "\n"
          ]
        }
      ]
    },
    {
      "cell_type": "code",
      "source": [
        "dataset[dataset['isTechnical'] == 0][:50]"
      ],
      "metadata": {
        "id": "6v3fcyCiB99P",
        "outputId": "e92362ae-34ab-48eb-e959-a8ae3e6399cc",
        "colab": {
          "base_uri": "https://localhost:8080/",
          "height": 1000
        }
      },
      "execution_count": null,
      "outputs": [
        {
          "output_type": "execute_result",
          "data": {
            "text/plain": [
              "              skill  isTechnical\n",
              "0              what            0\n",
              "1         seniority            0\n",
              "2       familiarity            0\n",
              "3   functionalities            0\n",
              "4           lambdas            0\n",
              "6            object            0\n",
              "7        relational            0\n",
              "8               sql            0\n",
              "9               orm            0\n",
              "10              jpa            0\n",
              "11        hibernate            0\n",
              "12          mybatis            0\n",
              "13             code            0\n",
              "14              git            0\n",
              "15            maven            0\n",
              "16           gradle            0\n",
              "17       continuous            0\n",
              "18          jenkins            0\n",
              "19           bamboo            0\n",
              "20       frameworks            0\n",
              "21  transformations            0\n",
              "22       analytical            0\n",
              "23       conceptual            0\n",
              "24         standard            0\n",
              "25           coding            0\n",
              "26      consistency            0\n",
              "27        optimized            0\n",
              "28    methodologies            0\n",
              "29             high            0\n",
              "30          analyze            0\n",
              "31        reporting            0\n",
              "32         physical            0\n",
              "33        variances            0\n",
              "34    discrepancies            0\n",
              "35              all            0\n",
              "36     integrations            0\n",
              "37     demonstrable            0\n",
              "38          logical            0\n",
              "39    interpersonal            0\n",
              "40           modern            0\n",
              "41             data            0\n",
              "42         modeling            0\n",
              "43        profiling            0\n",
              "44         bachelor            0\n",
              "45             stem            0\n",
              "46           strong            0\n",
              "47           either            0\n",
              "49            scala            0\n",
              "50      exceptional            0\n",
              "51             each            0"
            ],
            "text/html": [
              "\n",
              "  <div id=\"df-f5b4dab4-5437-4526-8107-fbf7a59b9424\">\n",
              "    <div class=\"colab-df-container\">\n",
              "      <div>\n",
              "<style scoped>\n",
              "    .dataframe tbody tr th:only-of-type {\n",
              "        vertical-align: middle;\n",
              "    }\n",
              "\n",
              "    .dataframe tbody tr th {\n",
              "        vertical-align: top;\n",
              "    }\n",
              "\n",
              "    .dataframe thead th {\n",
              "        text-align: right;\n",
              "    }\n",
              "</style>\n",
              "<table border=\"1\" class=\"dataframe\">\n",
              "  <thead>\n",
              "    <tr style=\"text-align: right;\">\n",
              "      <th></th>\n",
              "      <th>skill</th>\n",
              "      <th>isTechnical</th>\n",
              "    </tr>\n",
              "  </thead>\n",
              "  <tbody>\n",
              "    <tr>\n",
              "      <th>0</th>\n",
              "      <td>what</td>\n",
              "      <td>0</td>\n",
              "    </tr>\n",
              "    <tr>\n",
              "      <th>1</th>\n",
              "      <td>seniority</td>\n",
              "      <td>0</td>\n",
              "    </tr>\n",
              "    <tr>\n",
              "      <th>2</th>\n",
              "      <td>familiarity</td>\n",
              "      <td>0</td>\n",
              "    </tr>\n",
              "    <tr>\n",
              "      <th>3</th>\n",
              "      <td>functionalities</td>\n",
              "      <td>0</td>\n",
              "    </tr>\n",
              "    <tr>\n",
              "      <th>4</th>\n",
              "      <td>lambdas</td>\n",
              "      <td>0</td>\n",
              "    </tr>\n",
              "    <tr>\n",
              "      <th>6</th>\n",
              "      <td>object</td>\n",
              "      <td>0</td>\n",
              "    </tr>\n",
              "    <tr>\n",
              "      <th>7</th>\n",
              "      <td>relational</td>\n",
              "      <td>0</td>\n",
              "    </tr>\n",
              "    <tr>\n",
              "      <th>8</th>\n",
              "      <td>sql</td>\n",
              "      <td>0</td>\n",
              "    </tr>\n",
              "    <tr>\n",
              "      <th>9</th>\n",
              "      <td>orm</td>\n",
              "      <td>0</td>\n",
              "    </tr>\n",
              "    <tr>\n",
              "      <th>10</th>\n",
              "      <td>jpa</td>\n",
              "      <td>0</td>\n",
              "    </tr>\n",
              "    <tr>\n",
              "      <th>11</th>\n",
              "      <td>hibernate</td>\n",
              "      <td>0</td>\n",
              "    </tr>\n",
              "    <tr>\n",
              "      <th>12</th>\n",
              "      <td>mybatis</td>\n",
              "      <td>0</td>\n",
              "    </tr>\n",
              "    <tr>\n",
              "      <th>13</th>\n",
              "      <td>code</td>\n",
              "      <td>0</td>\n",
              "    </tr>\n",
              "    <tr>\n",
              "      <th>14</th>\n",
              "      <td>git</td>\n",
              "      <td>0</td>\n",
              "    </tr>\n",
              "    <tr>\n",
              "      <th>15</th>\n",
              "      <td>maven</td>\n",
              "      <td>0</td>\n",
              "    </tr>\n",
              "    <tr>\n",
              "      <th>16</th>\n",
              "      <td>gradle</td>\n",
              "      <td>0</td>\n",
              "    </tr>\n",
              "    <tr>\n",
              "      <th>17</th>\n",
              "      <td>continuous</td>\n",
              "      <td>0</td>\n",
              "    </tr>\n",
              "    <tr>\n",
              "      <th>18</th>\n",
              "      <td>jenkins</td>\n",
              "      <td>0</td>\n",
              "    </tr>\n",
              "    <tr>\n",
              "      <th>19</th>\n",
              "      <td>bamboo</td>\n",
              "      <td>0</td>\n",
              "    </tr>\n",
              "    <tr>\n",
              "      <th>20</th>\n",
              "      <td>frameworks</td>\n",
              "      <td>0</td>\n",
              "    </tr>\n",
              "    <tr>\n",
              "      <th>21</th>\n",
              "      <td>transformations</td>\n",
              "      <td>0</td>\n",
              "    </tr>\n",
              "    <tr>\n",
              "      <th>22</th>\n",
              "      <td>analytical</td>\n",
              "      <td>0</td>\n",
              "    </tr>\n",
              "    <tr>\n",
              "      <th>23</th>\n",
              "      <td>conceptual</td>\n",
              "      <td>0</td>\n",
              "    </tr>\n",
              "    <tr>\n",
              "      <th>24</th>\n",
              "      <td>standard</td>\n",
              "      <td>0</td>\n",
              "    </tr>\n",
              "    <tr>\n",
              "      <th>25</th>\n",
              "      <td>coding</td>\n",
              "      <td>0</td>\n",
              "    </tr>\n",
              "    <tr>\n",
              "      <th>26</th>\n",
              "      <td>consistency</td>\n",
              "      <td>0</td>\n",
              "    </tr>\n",
              "    <tr>\n",
              "      <th>27</th>\n",
              "      <td>optimized</td>\n",
              "      <td>0</td>\n",
              "    </tr>\n",
              "    <tr>\n",
              "      <th>28</th>\n",
              "      <td>methodologies</td>\n",
              "      <td>0</td>\n",
              "    </tr>\n",
              "    <tr>\n",
              "      <th>29</th>\n",
              "      <td>high</td>\n",
              "      <td>0</td>\n",
              "    </tr>\n",
              "    <tr>\n",
              "      <th>30</th>\n",
              "      <td>analyze</td>\n",
              "      <td>0</td>\n",
              "    </tr>\n",
              "    <tr>\n",
              "      <th>31</th>\n",
              "      <td>reporting</td>\n",
              "      <td>0</td>\n",
              "    </tr>\n",
              "    <tr>\n",
              "      <th>32</th>\n",
              "      <td>physical</td>\n",
              "      <td>0</td>\n",
              "    </tr>\n",
              "    <tr>\n",
              "      <th>33</th>\n",
              "      <td>variances</td>\n",
              "      <td>0</td>\n",
              "    </tr>\n",
              "    <tr>\n",
              "      <th>34</th>\n",
              "      <td>discrepancies</td>\n",
              "      <td>0</td>\n",
              "    </tr>\n",
              "    <tr>\n",
              "      <th>35</th>\n",
              "      <td>all</td>\n",
              "      <td>0</td>\n",
              "    </tr>\n",
              "    <tr>\n",
              "      <th>36</th>\n",
              "      <td>integrations</td>\n",
              "      <td>0</td>\n",
              "    </tr>\n",
              "    <tr>\n",
              "      <th>37</th>\n",
              "      <td>demonstrable</td>\n",
              "      <td>0</td>\n",
              "    </tr>\n",
              "    <tr>\n",
              "      <th>38</th>\n",
              "      <td>logical</td>\n",
              "      <td>0</td>\n",
              "    </tr>\n",
              "    <tr>\n",
              "      <th>39</th>\n",
              "      <td>interpersonal</td>\n",
              "      <td>0</td>\n",
              "    </tr>\n",
              "    <tr>\n",
              "      <th>40</th>\n",
              "      <td>modern</td>\n",
              "      <td>0</td>\n",
              "    </tr>\n",
              "    <tr>\n",
              "      <th>41</th>\n",
              "      <td>data</td>\n",
              "      <td>0</td>\n",
              "    </tr>\n",
              "    <tr>\n",
              "      <th>42</th>\n",
              "      <td>modeling</td>\n",
              "      <td>0</td>\n",
              "    </tr>\n",
              "    <tr>\n",
              "      <th>43</th>\n",
              "      <td>profiling</td>\n",
              "      <td>0</td>\n",
              "    </tr>\n",
              "    <tr>\n",
              "      <th>44</th>\n",
              "      <td>bachelor</td>\n",
              "      <td>0</td>\n",
              "    </tr>\n",
              "    <tr>\n",
              "      <th>45</th>\n",
              "      <td>stem</td>\n",
              "      <td>0</td>\n",
              "    </tr>\n",
              "    <tr>\n",
              "      <th>46</th>\n",
              "      <td>strong</td>\n",
              "      <td>0</td>\n",
              "    </tr>\n",
              "    <tr>\n",
              "      <th>47</th>\n",
              "      <td>either</td>\n",
              "      <td>0</td>\n",
              "    </tr>\n",
              "    <tr>\n",
              "      <th>49</th>\n",
              "      <td>scala</td>\n",
              "      <td>0</td>\n",
              "    </tr>\n",
              "    <tr>\n",
              "      <th>50</th>\n",
              "      <td>exceptional</td>\n",
              "      <td>0</td>\n",
              "    </tr>\n",
              "    <tr>\n",
              "      <th>51</th>\n",
              "      <td>each</td>\n",
              "      <td>0</td>\n",
              "    </tr>\n",
              "  </tbody>\n",
              "</table>\n",
              "</div>\n",
              "      <button class=\"colab-df-convert\" onclick=\"convertToInteractive('df-f5b4dab4-5437-4526-8107-fbf7a59b9424')\"\n",
              "              title=\"Convert this dataframe to an interactive table.\"\n",
              "              style=\"display:none;\">\n",
              "        \n",
              "  <svg xmlns=\"http://www.w3.org/2000/svg\" height=\"24px\"viewBox=\"0 0 24 24\"\n",
              "       width=\"24px\">\n",
              "    <path d=\"M0 0h24v24H0V0z\" fill=\"none\"/>\n",
              "    <path d=\"M18.56 5.44l.94 2.06.94-2.06 2.06-.94-2.06-.94-.94-2.06-.94 2.06-2.06.94zm-11 1L8.5 8.5l.94-2.06 2.06-.94-2.06-.94L8.5 2.5l-.94 2.06-2.06.94zm10 10l.94 2.06.94-2.06 2.06-.94-2.06-.94-.94-2.06-.94 2.06-2.06.94z\"/><path d=\"M17.41 7.96l-1.37-1.37c-.4-.4-.92-.59-1.43-.59-.52 0-1.04.2-1.43.59L10.3 9.45l-7.72 7.72c-.78.78-.78 2.05 0 2.83L4 21.41c.39.39.9.59 1.41.59.51 0 1.02-.2 1.41-.59l7.78-7.78 2.81-2.81c.8-.78.8-2.07 0-2.86zM5.41 20L4 18.59l7.72-7.72 1.47 1.35L5.41 20z\"/>\n",
              "  </svg>\n",
              "      </button>\n",
              "      \n",
              "  <style>\n",
              "    .colab-df-container {\n",
              "      display:flex;\n",
              "      flex-wrap:wrap;\n",
              "      gap: 12px;\n",
              "    }\n",
              "\n",
              "    .colab-df-convert {\n",
              "      background-color: #E8F0FE;\n",
              "      border: none;\n",
              "      border-radius: 50%;\n",
              "      cursor: pointer;\n",
              "      display: none;\n",
              "      fill: #1967D2;\n",
              "      height: 32px;\n",
              "      padding: 0 0 0 0;\n",
              "      width: 32px;\n",
              "    }\n",
              "\n",
              "    .colab-df-convert:hover {\n",
              "      background-color: #E2EBFA;\n",
              "      box-shadow: 0px 1px 2px rgba(60, 64, 67, 0.3), 0px 1px 3px 1px rgba(60, 64, 67, 0.15);\n",
              "      fill: #174EA6;\n",
              "    }\n",
              "\n",
              "    [theme=dark] .colab-df-convert {\n",
              "      background-color: #3B4455;\n",
              "      fill: #D2E3FC;\n",
              "    }\n",
              "\n",
              "    [theme=dark] .colab-df-convert:hover {\n",
              "      background-color: #434B5C;\n",
              "      box-shadow: 0px 1px 3px 1px rgba(0, 0, 0, 0.15);\n",
              "      filter: drop-shadow(0px 1px 2px rgba(0, 0, 0, 0.3));\n",
              "      fill: #FFFFFF;\n",
              "    }\n",
              "  </style>\n",
              "\n",
              "      <script>\n",
              "        const buttonEl =\n",
              "          document.querySelector('#df-f5b4dab4-5437-4526-8107-fbf7a59b9424 button.colab-df-convert');\n",
              "        buttonEl.style.display =\n",
              "          google.colab.kernel.accessAllowed ? 'block' : 'none';\n",
              "\n",
              "        async function convertToInteractive(key) {\n",
              "          const element = document.querySelector('#df-f5b4dab4-5437-4526-8107-fbf7a59b9424');\n",
              "          const dataTable =\n",
              "            await google.colab.kernel.invokeFunction('convertToInteractive',\n",
              "                                                     [key], {});\n",
              "          if (!dataTable) return;\n",
              "\n",
              "          const docLinkHtml = 'Like what you see? Visit the ' +\n",
              "            '<a target=\"_blank\" href=https://colab.research.google.com/notebooks/data_table.ipynb>data table notebook</a>'\n",
              "            + ' to learn more about interactive tables.';\n",
              "          element.innerHTML = '';\n",
              "          dataTable['output_type'] = 'display_data';\n",
              "          await google.colab.output.renderOutput(dataTable, element);\n",
              "          const docLink = document.createElement('div');\n",
              "          docLink.innerHTML = docLinkHtml;\n",
              "          element.appendChild(docLink);\n",
              "        }\n",
              "      </script>\n",
              "    </div>\n",
              "  </div>\n",
              "  "
            ]
          },
          "metadata": {},
          "execution_count": 467
        }
      ]
    },
    {
      "cell_type": "code",
      "source": [
        "error = (3/51) * 100\n",
        "print(f\"Error %age after 3 Iterations: {error}\")"
      ],
      "metadata": {
        "colab": {
          "base_uri": "https://localhost:8080/"
        },
        "id": "zVEf9NcWLNsU",
        "outputId": "cad3a1eb-b448-4257-fcfe-e8e1ee0769be"
      },
      "execution_count": 1,
      "outputs": [
        {
          "output_type": "stream",
          "name": "stdout",
          "text": [
            "Error %age after 3 Iterations: 5.88235294117647\n"
          ]
        }
      ]
    },
    {
      "cell_type": "markdown",
      "source": [
        "### Download Embeddings"
      ],
      "metadata": {
        "id": "pS3opEXb5UOO"
      }
    },
    {
      "cell_type": "code",
      "source": [
        "embedding_path = '/content/vectors.tsv'\n",
        "metadata_path = '/content/metadata.tsv'"
      ],
      "metadata": {
        "id": "J7n0xwy6AR6M"
      },
      "execution_count": null,
      "outputs": []
    },
    {
      "cell_type": "code",
      "source": [
        "out_v = io.open(embedding_path, 'w', encoding='utf-8')\n",
        "out_m = io.open(metadata_path, 'w', encoding='utf-8')\n",
        "\n",
        "for index, word in enumerate(vocab):\n",
        "  if index == 0:\n",
        "    continue  # skip 0, it's padding.\n",
        "  vec = weights[index]\n",
        "  out_v.write('\\t'.join([str(x) for x in vec]) + \"\\n\")\n",
        "  out_m.write(word + \"\\n\")\n",
        "out_v.close()\n",
        "out_m.close()"
      ],
      "metadata": {
        "id": "_be1F7yt_r2y"
      },
      "execution_count": null,
      "outputs": []
    },
    {
      "cell_type": "code",
      "source": [
        "try:\n",
        "  from google.colab import files\n",
        "  files.download(embedding_path)\n",
        "  files.download(metadata_path)\n",
        "except Exception:\n",
        "  pass"
      ],
      "metadata": {
        "id": "AKmeTHf6AHwn",
        "outputId": "69b4fa89-776a-403c-814b-b1e1339053e5",
        "colab": {
          "base_uri": "https://localhost:8080/",
          "height": 17
        }
      },
      "execution_count": null,
      "outputs": [
        {
          "output_type": "display_data",
          "data": {
            "text/plain": [
              "<IPython.core.display.Javascript object>"
            ],
            "application/javascript": [
              "\n",
              "    async function download(id, filename, size) {\n",
              "      if (!google.colab.kernel.accessAllowed) {\n",
              "        return;\n",
              "      }\n",
              "      const div = document.createElement('div');\n",
              "      const label = document.createElement('label');\n",
              "      label.textContent = `Downloading \"${filename}\": `;\n",
              "      div.appendChild(label);\n",
              "      const progress = document.createElement('progress');\n",
              "      progress.max = size;\n",
              "      div.appendChild(progress);\n",
              "      document.body.appendChild(div);\n",
              "\n",
              "      const buffers = [];\n",
              "      let downloaded = 0;\n",
              "\n",
              "      const channel = await google.colab.kernel.comms.open(id);\n",
              "      // Send a message to notify the kernel that we're ready.\n",
              "      channel.send({})\n",
              "\n",
              "      for await (const message of channel.messages) {\n",
              "        // Send a message to notify the kernel that we're ready.\n",
              "        channel.send({})\n",
              "        if (message.buffers) {\n",
              "          for (const buffer of message.buffers) {\n",
              "            buffers.push(buffer);\n",
              "            downloaded += buffer.byteLength;\n",
              "            progress.value = downloaded;\n",
              "          }\n",
              "        }\n",
              "      }\n",
              "      const blob = new Blob(buffers, {type: 'application/binary'});\n",
              "      const a = document.createElement('a');\n",
              "      a.href = window.URL.createObjectURL(blob);\n",
              "      a.download = filename;\n",
              "      div.appendChild(a);\n",
              "      a.click();\n",
              "      div.remove();\n",
              "    }\n",
              "  "
            ]
          },
          "metadata": {}
        },
        {
          "output_type": "display_data",
          "data": {
            "text/plain": [
              "<IPython.core.display.Javascript object>"
            ],
            "application/javascript": [
              "download(\"download_f7a62b99-2dea-4cb9-8f8c-57770ad31f9a\", \"vectors.tsv\", 6326566)"
            ]
          },
          "metadata": {}
        },
        {
          "output_type": "display_data",
          "data": {
            "text/plain": [
              "<IPython.core.display.Javascript object>"
            ],
            "application/javascript": [
              "\n",
              "    async function download(id, filename, size) {\n",
              "      if (!google.colab.kernel.accessAllowed) {\n",
              "        return;\n",
              "      }\n",
              "      const div = document.createElement('div');\n",
              "      const label = document.createElement('label');\n",
              "      label.textContent = `Downloading \"${filename}\": `;\n",
              "      div.appendChild(label);\n",
              "      const progress = document.createElement('progress');\n",
              "      progress.max = size;\n",
              "      div.appendChild(progress);\n",
              "      document.body.appendChild(div);\n",
              "\n",
              "      const buffers = [];\n",
              "      let downloaded = 0;\n",
              "\n",
              "      const channel = await google.colab.kernel.comms.open(id);\n",
              "      // Send a message to notify the kernel that we're ready.\n",
              "      channel.send({})\n",
              "\n",
              "      for await (const message of channel.messages) {\n",
              "        // Send a message to notify the kernel that we're ready.\n",
              "        channel.send({})\n",
              "        if (message.buffers) {\n",
              "          for (const buffer of message.buffers) {\n",
              "            buffers.push(buffer);\n",
              "            downloaded += buffer.byteLength;\n",
              "            progress.value = downloaded;\n",
              "          }\n",
              "        }\n",
              "      }\n",
              "      const blob = new Blob(buffers, {type: 'application/binary'});\n",
              "      const a = document.createElement('a');\n",
              "      a.href = window.URL.createObjectURL(blob);\n",
              "      a.download = filename;\n",
              "      div.appendChild(a);\n",
              "      a.click();\n",
              "      div.remove();\n",
              "    }\n",
              "  "
            ]
          },
          "metadata": {}
        },
        {
          "output_type": "display_data",
          "data": {
            "text/plain": [
              "<IPython.core.display.Javascript object>"
            ],
            "application/javascript": [
              "download(\"download_0d8eadb8-ba5c-4d08-a620-025b4804cfa1\", \"metadata.tsv\", 33723)"
            ]
          },
          "metadata": {}
        }
      ]
    }
  ]
}